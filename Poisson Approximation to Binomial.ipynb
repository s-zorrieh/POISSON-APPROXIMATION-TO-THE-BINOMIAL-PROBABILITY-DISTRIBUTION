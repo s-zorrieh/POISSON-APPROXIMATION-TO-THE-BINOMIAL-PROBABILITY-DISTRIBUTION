{
 "cells": [
  {
   "cell_type": "markdown",
   "id": "08c7f185",
   "metadata": {},
   "source": [
    "# POISSON APPROXIMATION TO THE BINOMIAL PROBABILITY DISTRIBUTION \n",
    "## Using biased coin-flipping simulation\n",
    "\n",
    "This simulation shows that the binomial distribution approches to a poisson distribution for large n and small p with λ = np = const.\n",
    "\n",
    "\n",
    "*Author: Saleh H. Zorrieh*"
   ]
  },
  {
   "cell_type": "code",
   "execution_count": null,
   "id": "0d241d42",
   "metadata": {},
   "outputs": [],
   "source": [
    "import numpy as np\n",
    "import matplotlib.pyplot as plt\n",
    "from scipy.special import factorial\n",
    "import random\n",
    "random.seed(0)"
   ]
  },
  {
   "cell_type": "code",
   "execution_count": null,
   "id": "806b772e",
   "metadata": {},
   "outputs": [],
   "source": [
    "class Coin(object):\n",
    "    def __init__(self, p):\n",
    "        self.prob = p\n",
    "        return\n",
    "    \n",
    "    def flip(self):\n",
    "        if random.random() < self.prob:\n",
    "            return True\n",
    "        return False\n",
    "    \n",
    "    def __str__(self):\n",
    "        return f\"<Coin>:p = {self.prob}\"\n",
    "    \n",
    "    def __repr__(self):\n",
    "        return f\"Coin(p={self.prob})\""
   ]
  },
  {
   "cell_type": "code",
   "execution_count": null,
   "id": "1d36f7da",
   "metadata": {},
   "outputs": [],
   "source": [
    "p = 0.001\n",
    "n = 10000\n",
    "numOfTrials = 10000\n",
    "\n",
    "myCoin = Coin(p)\n",
    "\n",
    "result = []\n",
    "for _ in range(numOfTrials):\n",
    "    local_result = 0\n",
    "    for iteration in range(n):\n",
    "        if myCoin.flip():\n",
    "            local_result += 1\n",
    "    result.append(local_result)\n",
    "            "
   ]
  },
  {
   "cell_type": "code",
   "execution_count": null,
   "id": "c3c592e3",
   "metadata": {},
   "outputs": [],
   "source": [
    "Bins = 22\n",
    "coin_distribution ,bins ,_ =plt.hist(result, density=True, bins = Bins)\n",
    "rv = bins[:-1]  # random variable\n",
    "plt.close()"
   ]
  },
  {
   "cell_type": "code",
   "execution_count": null,
   "id": "997f6aa7",
   "metadata": {},
   "outputs": [],
   "source": [
    "def poisson_destribution(lam, x):\n",
    "    return np.exp(-lam) * (lam ** x) / factorial(x)"
   ]
  },
  {
   "cell_type": "code",
   "execution_count": null,
   "id": "11b15f3c",
   "metadata": {},
   "outputs": [],
   "source": [
    "poissonModel = poisson_destribution(p*n, rv)"
   ]
  },
  {
   "cell_type": "code",
   "execution_count": null,
   "id": "de57b79b",
   "metadata": {},
   "outputs": [],
   "source": [
    "# Comparing data with model\n",
    "\n",
    "def RSquared(data, model):\n",
    "    Mean = np.mean(data)\n",
    "    e = data - model\n",
    "    SS_res = np.sum(np.array(list(map(lambda x: x**2, e))))\n",
    "    SS_tot = np.var(data) * len(data)\n",
    "    \n",
    "    return 1 - (SS_res / SS_tot)\n",
    "\n",
    "r_squared = RSquared(coin_distribution, poissonModel)\n"
   ]
  },
  {
   "cell_type": "code",
   "execution_count": null,
   "id": "e434d748",
   "metadata": {},
   "outputs": [],
   "source": [
    "# Data visualization\n",
    "\n",
    "x = np.linspace(min(rv), max(rv), 100)\n",
    "visualModel = poisson_destribution(n*p, x)\n",
    "\n",
    "plt.figure(figsize=(15,8.5))\n",
    "plt.title(\"\\nPMF of Simulated Biased Coin-Flipping Distribution with p=0.001 for n=10000 times\\n\", fontsize=17, style='oblique')\n",
    "plt.scatter(rv, coin_distribution, label=\"Simulation\")\n",
    "plt.plot(x, visualModel, label=\"Poisson Model\" , c='r')\n",
    "\n",
    "plt.xlabel(\"#Occurance\", fontsize=13)\n",
    "plt.ylabel(\"Probability\", fontsize=13)\n",
    "plt.text(12,0.1,f\"R-Squared = {r_squared}\", c='r', weight='bold', fontsize=12 )\n",
    "plt.grid()\n",
    "plt.legend(fontsize=15)\n",
    "\n",
    "plt.savefig(\"simulation-Poisson-Binomial.jpeg\")\n",
    "plt.show()"
   ]
  }
 ],
 "metadata": {
  "kernelspec": {
   "display_name": "Python 3 (ipykernel)",
   "language": "python",
   "name": "python3"
  },
  "language_info": {
   "codemirror_mode": {
    "name": "ipython",
    "version": 3
   },
   "file_extension": ".py",
   "mimetype": "text/x-python",
   "name": "python",
   "nbconvert_exporter": "python",
   "pygments_lexer": "ipython3",
   "version": "3.9.7"
  }
 },
 "nbformat": 4,
 "nbformat_minor": 5
}
